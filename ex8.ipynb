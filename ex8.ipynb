{
 "cells": [
  {
   "cell_type": "code",
   "execution_count": null,
   "id": "e128615f",
   "metadata": {},
   "outputs": [],
   "source": [
    "import numpy as np\n",
    "import cv2\n",
    "\n",
    "def draw_circle(ev, x, y, flags, params):\n",
    "    if ev == cv2.EVENT_LBUTTONDBLCLK:\n",
    "        cv2.circle(img, (x, y), 100, (255, 0, 0, 0), -1)\n",
    "        print(\"hello\")\n",
    "        \n",
    "img = np.zeros((512, 512), np.uint8)\n",
    "\n",
    "cv2.namedWindow(\"Paint\")\n",
    "cv2.setMouseCallback('Paint', draw_circle)\n",
    "\n",
    "while True:\n",
    "    cv2.imshow('Paint', img)\n",
    "    if cv2.waitKey(20) & 0xFF == 27:\n",
    "        \n",
    "        break\n",
    "        \n",
    "cv2.imwrite('output.png', img)\n",
    "cv2.destroyAllWindows()"
   ]
  },
  {
   "cell_type": "code",
   "execution_count": null,
   "id": "3ad6a64e",
   "metadata": {},
   "outputs": [],
   "source": []
  }
 ],
 "metadata": {
  "kernelspec": {
   "display_name": "Python 3 (ipykernel)",
   "language": "python",
   "name": "python3"
  },
  "language_info": {
   "codemirror_mode": {
    "name": "ipython",
    "version": 3
   },
   "file_extension": ".py",
   "mimetype": "text/x-python",
   "name": "python",
   "nbconvert_exporter": "python",
   "pygments_lexer": "ipython3",
   "version": "3.10.9"
  }
 },
 "nbformat": 4,
 "nbformat_minor": 5
}
