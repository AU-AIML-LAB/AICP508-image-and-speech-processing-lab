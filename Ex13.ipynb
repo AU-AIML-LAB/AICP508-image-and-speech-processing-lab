{
 "cells": [
  {
   "cell_type": "markdown",
   "metadata": {},
   "source": [
    "# Mel Frequency Cepstral Coefficients"
   ]
  },
  {
   "cell_type": "code",
   "execution_count": null,
   "metadata": {},
   "outputs": [],
   "source": [
    "import librosa\n",
    "\n",
    "y, sr = librosa.load('dataset/auds/speech.wav')\n",
    "print(y.shape, sr)\n",
    "print(y)\n",
    "\n",
    "print(\"Sample Rate:\", sr)\n",
    "print(\"Audio Duration:\", len(y)/sr , \"s\")\n",
    "print(\"MFCC \\n\", librosa.feature.mfcc(y=y, sr=sr, n_mfcc=13))\n"
   ]
  }
 ],
 "metadata": {
  "kernelspec": {
   "display_name": "Python 3",
   "language": "python",
   "name": "python3"
  },
  "language_info": {
   "codemirror_mode": {
    "name": "ipython",
    "version": 3
   },
   "file_extension": ".py",
   "mimetype": "text/x-python",
   "name": "python",
   "nbconvert_exporter": "python",
   "pygments_lexer": "ipython3",
   "version": "3.11.4"
  },
  "orig_nbformat": 4
 },
 "nbformat": 4,
 "nbformat_minor": 2
}
